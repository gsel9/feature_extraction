{
 "cells": [
  {
   "cell_type": "code",
   "execution_count": null,
   "metadata": {},
   "outputs": [],
   "source": [
    "import utils \n",
    "\n",
    "from feature_extraction import feature_extractor"
   ]
  },
  {
   "cell_type": "markdown",
   "metadata": {},
   "source": [
    "# Paths to images and masks\n",
    "\n",
    "Specify a path to the *directory/folder* where `images` and `segmentation` masks are stored. Paths to the image and mask data directories could be given as follows:"
   ]
  },
  {
   "cell_type": "code",
   "execution_count": null,
   "metadata": {},
   "outputs": [],
   "source": [
    "path_ct_imagedir = 'my_data/ct_images/'\n",
    "path_ct_masksdir = 'my_data/ct_masks/'"
   ]
  },
  {
   "cell_type": "markdown",
   "metadata": {},
   "source": [
    "Paths to the `parameter file` with specifications for the feature extraction, and the output file containing meta data and the actual feature values can be specified as:"
   ]
  },
  {
   "cell_type": "code",
   "execution_count": null,
   "metadata": {},
   "outputs": [],
   "source": [
    "# This file contains configrations for the feature extraction.\n",
    "ct_param_file = 'parameter_files/example_params.yaml'\n",
    "# This file contains the feature values in addition to some PyRadiomics meta data.\n",
    "ct_feature_file = 'my_results/example_results.csv'"
   ]
  },
  {
   "cell_type": "markdown",
   "metadata": {},
   "source": [
    "The following function searches the image and mask data directories looking for `NRRD` files specified by `target_format='nrrd'`. If features should be extracted from e.g. *NIFTY* images, try `target_format='nifty')`."
   ]
  },
  {
   "cell_type": "code",
   "execution_count": null,
   "metadata": {},
   "outputs": [],
   "source": [
    "paths_ct_images = utils.sample_paths(path_ct_imagedir, path_ct_masksdir, target_format='nrrd')"
   ]
  },
  {
   "cell_type": "code",
   "execution_count": null,
   "metadata": {},
   "outputs": [],
   "source": [
    "feature_extractor(\n",
    "    param_file=ct_param_file, \n",
    "    paths_to_images_and_masks=paths_ct_images, \n",
    "    verbose=0, \n",
    "    path_to_results=ct_feature_file,\n",
    "    n_jobs=2\n",
    ")"
   ]
  }
 ],
 "metadata": {
  "kernelspec": {
   "display_name": "Python 3",
   "language": "python",
   "name": "python3"
  },
  "language_info": {
   "codemirror_mode": {
    "name": "ipython",
    "version": 3
   },
   "file_extension": ".py",
   "mimetype": "text/x-python",
   "name": "python",
   "nbconvert_exporter": "python",
   "pygments_lexer": "ipython3",
   "version": "3.7.4"
  }
 },
 "nbformat": 4,
 "nbformat_minor": 2
}
